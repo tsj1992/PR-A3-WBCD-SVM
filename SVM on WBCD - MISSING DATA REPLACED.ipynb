{
 "cells": [
  {
   "cell_type": "code",
   "execution_count": 1,
   "metadata": {},
   "outputs": [],
   "source": [
    "import pandas as pd\n",
    "import numpy as np\n",
    "import matplotlib.pyplot as plt\n",
    "from sklearn.svm import SVC\n",
    "from sklearn.model_selection import train_test_split\n",
    "from sklearn.metrics import classification_report, confusion_matrix\n",
    "%matplotlib inline"
   ]
  },
  {
   "cell_type": "code",
   "execution_count": 31,
   "metadata": {},
   "outputs": [],
   "source": [
    "data_set = pd.read_csv(r\"D:\\MSc\\Semester 1\\CS5612 - Pattern Recognition\\Assignment 3\\WBCD\\breast-cancer-wisconsin.data_MISSING_DATA_ROWS_REPLACEDx.csv\")"
   ]
  },
  {
   "cell_type": "code",
   "execution_count": 32,
   "metadata": {},
   "outputs": [],
   "source": [
    "data_clean = data_set.dropna()"
   ]
  },
  {
   "cell_type": "code",
   "execution_count": 33,
   "metadata": {},
   "outputs": [
    {
     "name": "stdout",
     "output_type": "stream",
     "text": [
      "               code  clump_thickness  uniformity_of_cell_size  \\\n",
      "count  6.000000e+02       600.000000               600.000000   \n",
      "mean   1.044655e+06         4.556667                 3.213333   \n",
      "std    4.139205e+05         2.885134                 3.042463   \n",
      "min    6.163400e+04         1.000000                 1.000000   \n",
      "25%    8.645812e+05         2.000000                 1.000000   \n",
      "50%    1.166278e+06         4.000000                 1.000000   \n",
      "75%    1.223288e+06         6.000000                 5.000000   \n",
      "max    8.233704e+06        10.000000                10.000000   \n",
      "\n",
      "       uniformity_of_cell_shape  marginal_adhesion  \\\n",
      "count                600.000000         600.000000   \n",
      "mean                   3.288333           2.856667   \n",
      "std                    2.968707           2.872259   \n",
      "min                    1.000000           1.000000   \n",
      "25%                    1.000000           1.000000   \n",
      "50%                    2.000000           1.000000   \n",
      "75%                    5.000000           4.000000   \n",
      "max                   10.000000          10.000000   \n",
      "\n",
      "       single_epithelial_cell_size  bare_nuclei  bland_chromatin  \\\n",
      "count                   600.000000   600.000000       600.000000   \n",
      "mean                      3.286667     3.703333         3.516667   \n",
      "std                       2.275181     3.722241         2.369757   \n",
      "min                       1.000000     1.000000         1.000000   \n",
      "25%                       2.000000     1.000000         2.000000   \n",
      "50%                       2.000000     1.000000         3.000000   \n",
      "75%                       4.000000     8.000000         5.000000   \n",
      "max                      10.000000    10.000000        10.000000   \n",
      "\n",
      "       normal_nucleoli     mitoses      target  \n",
      "count       600.000000  600.000000  600.000000  \n",
      "mean          2.963333    1.606667    2.733333  \n",
      "std           3.082936    1.733098    0.964593  \n",
      "min           1.000000    1.000000    2.000000  \n",
      "25%           1.000000    1.000000    2.000000  \n",
      "50%           1.000000    1.000000    2.000000  \n",
      "75%           4.000000    1.000000    4.000000  \n",
      "max          10.000000   10.000000    4.000000  \n"
     ]
    }
   ],
   "source": [
    "print(data_clean.describe())"
   ]
  },
  {
   "cell_type": "code",
   "execution_count": 34,
   "metadata": {},
   "outputs": [],
   "source": [
    "X = data_clean.drop('target', axis=1)\n",
    "y = data_clean['target']"
   ]
  },
  {
   "cell_type": "code",
   "execution_count": 35,
   "metadata": {},
   "outputs": [],
   "source": [
    "X_train, X_test, y_train, y_test = train_test_split(X, y, test_size = 0.35)"
   ]
  },
  {
   "cell_type": "code",
   "execution_count": 36,
   "metadata": {},
   "outputs": [
    {
     "data": {
      "text/plain": [
       "SVC(C=1.0, cache_size=200, class_weight=None, coef0=0.0,\n",
       "    decision_function_shape='ovr', degree=3, gamma='auto_deprecated',\n",
       "    kernel='linear', max_iter=-1, probability=False, random_state=None,\n",
       "    shrinking=True, tol=0.001, verbose=False)"
      ]
     },
     "execution_count": 36,
     "metadata": {},
     "output_type": "execute_result"
    }
   ],
   "source": [
    "svclassifier = SVC(kernel='linear')\n",
    "svclassifier.fit(X_train, y_train)"
   ]
  },
  {
   "cell_type": "code",
   "execution_count": 39,
   "metadata": {},
   "outputs": [],
   "source": [
    "y_pred = svclassifier.predict(X_test)"
   ]
  },
  {
   "cell_type": "code",
   "execution_count": 40,
   "metadata": {},
   "outputs": [
    {
     "name": "stdout",
     "output_type": "stream",
     "text": [
      "[[134   0]\n",
      " [ 71   5]]\n",
      "              precision    recall  f1-score   support\n",
      "\n",
      "           2       0.65      1.00      0.79       134\n",
      "           4       1.00      0.07      0.12        76\n",
      "\n",
      "    accuracy                           0.66       210\n",
      "   macro avg       0.83      0.53      0.46       210\n",
      "weighted avg       0.78      0.66      0.55       210\n",
      "\n"
     ]
    }
   ],
   "source": [
    "print(confusion_matrix(y_test,y_pred))\n",
    "print(classification_report(y_test,y_pred))"
   ]
  }
 ],
 "metadata": {
  "kernelspec": {
   "display_name": "Python 3",
   "language": "python",
   "name": "python3"
  },
  "language_info": {
   "codemirror_mode": {
    "name": "ipython",
    "version": 3
   },
   "file_extension": ".py",
   "mimetype": "text/x-python",
   "name": "python",
   "nbconvert_exporter": "python",
   "pygments_lexer": "ipython3",
   "version": "3.7.4"
  }
 },
 "nbformat": 4,
 "nbformat_minor": 2
}
