{
 "cells": [
  {
   "cell_type": "code",
   "execution_count": 9,
   "metadata": {},
   "outputs": [],
   "source": [
    "import pandas as pd\n",
    "import numpy as np\n",
    "import matplotlib.pyplot as plt\n",
    "from sklearn.svm import SVC\n",
    "from sklearn.model_selection import train_test_split\n",
    "from sklearn.metrics import classification_report, confusion_matrix\n",
    "%matplotlib inline"
   ]
  },
  {
   "cell_type": "code",
   "execution_count": 10,
   "metadata": {},
   "outputs": [],
   "source": [
    "data_set = pd.read_csv(r\"D:\\MSc\\Semester 1\\CS5612 - Pattern Recognition\\Assignment 3\\WBCD\\breast-cancer-wisconsin.data_MISSING_DATA_ROWS_REMOVEDx.csv\")"
   ]
  },
  {
   "cell_type": "code",
   "execution_count": 11,
   "metadata": {},
   "outputs": [],
   "source": [
    "data_clean = data_set.dropna()"
   ]
  },
  {
   "cell_type": "code",
   "execution_count": 12,
   "metadata": {},
   "outputs": [
    {
     "name": "stdout",
     "output_type": "stream",
     "text": [
      "               code  clump_thickness  uniformity_of_cell_size  \\\n",
      "count  1.770000e+02       177.000000               177.000000   \n",
      "mean   8.396414e+05         5.045198                 3.819209   \n",
      "std    3.336276e+05         3.210103                 3.306514   \n",
      "min    6.337500e+04         1.000000                 1.000000   \n",
      "25%    6.361300e+05         2.000000                 1.000000   \n",
      "50%    8.142650e+05         5.000000                 3.000000   \n",
      "75%    1.214556e+06         8.000000                 6.000000   \n",
      "max    1.287775e+06        10.000000                10.000000   \n",
      "\n",
      "       uniformity_of_cell_shape  marginal_adhesion  \\\n",
      "count                177.000000         177.000000   \n",
      "mean                   3.937853           3.361582   \n",
      "std                    3.245903           3.047781   \n",
      "min                    1.000000           1.000000   \n",
      "25%                    1.000000           1.000000   \n",
      "50%                    3.000000           2.000000   \n",
      "75%                    7.000000           5.000000   \n",
      "max                   10.000000          10.000000   \n",
      "\n",
      "       single_epithelial_cell_size  bare_nuclei  bland_chromatin  \\\n",
      "count                   177.000000   177.000000       177.000000   \n",
      "mean                      3.655367     4.779661         4.056497   \n",
      "std                       2.421468     4.004548         2.359019   \n",
      "min                       1.000000     1.000000         1.000000   \n",
      "25%                       2.000000     1.000000         3.000000   \n",
      "50%                       3.000000     3.000000         3.000000   \n",
      "75%                       5.000000    10.000000         5.000000   \n",
      "max                      10.000000    10.000000        10.000000   \n",
      "\n",
      "       normal_nucleoli     mitoses      target  \n",
      "count       177.000000  177.000000  177.000000  \n",
      "mean          3.717514    1.830508    2.971751  \n",
      "std           3.276878    1.961150    1.002437  \n",
      "min           1.000000    1.000000    2.000000  \n",
      "25%           1.000000    1.000000    2.000000  \n",
      "50%           3.000000    1.000000    2.000000  \n",
      "75%           6.000000    2.000000    4.000000  \n",
      "max          10.000000   10.000000    4.000000  \n"
     ]
    }
   ],
   "source": [
    "print(data_clean.describe())"
   ]
  },
  {
   "cell_type": "code",
   "execution_count": 13,
   "metadata": {},
   "outputs": [],
   "source": [
    "X = data_clean.drop('target', axis=1)\n",
    "y = data_clean['target']"
   ]
  },
  {
   "cell_type": "code",
   "execution_count": 14,
   "metadata": {},
   "outputs": [
    {
     "name": "stdout",
     "output_type": "stream",
     "text": [
      "        code  clump_thickness  uniformity_of_cell_size  \\\n",
      "152   831268                1                        1   \n",
      "27   1222047               10                       10   \n",
      "119   691628                8                        6   \n",
      "99    555977                5                        6   \n",
      "53   1276091                3                        1   \n",
      "..       ...              ...                      ...   \n",
      "108   636130                1                        1   \n",
      "36   1226612                7                        5   \n",
      "60    167528                4                        1   \n",
      "42   1230175               10                       10   \n",
      "166   603148                4                        1   \n",
      "\n",
      "     uniformity_of_cell_shape  marginal_adhesion  single_epithelial_cell_size  \\\n",
      "152                         1                  1                            1   \n",
      "27                         10                 10                            3   \n",
      "119                         4                 10                           10   \n",
      "99                          6                  8                            6   \n",
      "53                          1                  3                            1   \n",
      "..                        ...                ...                          ...   \n",
      "108                         1                  1                            2   \n",
      "36                          6                  3                            3   \n",
      "60                          1                  1                            2   \n",
      "42                         10                  3                           10   \n",
      "166                         1                  1                            2   \n",
      "\n",
      "     bare_nuclei  bland_chromatin  normal_nucleoli  mitoses  \n",
      "152            1                1                3        1  \n",
      "27            10               10                6        1  \n",
      "119            1                3                5        1  \n",
      "99            10                4               10        4  \n",
      "53             1                3                1        1  \n",
      "..           ...              ...              ...      ...  \n",
      "108            1                3                1        1  \n",
      "36             8                7                4        1  \n",
      "60             1                3                6        1  \n",
      "42            10                9               10        1  \n",
      "166            1                1                1        1  \n",
      "\n",
      "[115 rows x 10 columns]\n"
     ]
    }
   ],
   "source": [
    "X_train, X_test, y_train, y_test = train_test_split(X, y, test_size = 0.35)\n",
    "print(X_train)"
   ]
  },
  {
   "cell_type": "code",
   "execution_count": 15,
   "metadata": {},
   "outputs": [
    {
     "name": "stdout",
     "output_type": "stream",
     "text": [
      "SVC(C=1.0, cache_size=200, class_weight=None, coef0=0.0,\n",
      "    decision_function_shape='ovr', degree=3, gamma='auto_deprecated',\n",
      "    kernel='linear', max_iter=-1, probability=False, random_state=None,\n",
      "    shrinking=True, tol=0.001, verbose=False)\n"
     ]
    },
    {
     "data": {
      "text/plain": [
       "SVC(C=1.0, cache_size=200, class_weight=None, coef0=0.0,\n",
       "    decision_function_shape='ovr', degree=3, gamma='auto_deprecated',\n",
       "    kernel='linear', max_iter=-1, probability=False, random_state=None,\n",
       "    shrinking=True, tol=0.001, verbose=False)"
      ]
     },
     "execution_count": 15,
     "metadata": {},
     "output_type": "execute_result"
    }
   ],
   "source": [
    "svclassifier = SVC(kernel='linear')\n",
    "print(svclassifier)\n",
    "svclassifier.fit(X_train, y_train)"
   ]
  },
  {
   "cell_type": "code",
   "execution_count": 16,
   "metadata": {},
   "outputs": [],
   "source": [
    "y_pred = svclassifier.predict(X_test)"
   ]
  },
  {
   "cell_type": "code",
   "execution_count": null,
   "metadata": {},
   "outputs": [],
   "source": [
    "print(confusion_matrix(y_test,y_pred))\n",
    "print(classification_report(y_test,y_pred))"
   ]
  }
 ],
 "metadata": {
  "kernelspec": {
   "display_name": "Python 3",
   "language": "python",
   "name": "python3"
  },
  "language_info": {
   "codemirror_mode": {
    "name": "ipython",
    "version": 3
   },
   "file_extension": ".py",
   "mimetype": "text/x-python",
   "name": "python",
   "nbconvert_exporter": "python",
   "pygments_lexer": "ipython3",
   "version": "3.7.4"
  }
 },
 "nbformat": 4,
 "nbformat_minor": 2
}
